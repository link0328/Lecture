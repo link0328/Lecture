{
  "nbformat": 4,
  "nbformat_minor": 0,
  "metadata": {
    "colab": {
      "provenance": [],
      "authorship_tag": "ABX9TyP0zEZo28lysTg2Am4H6QA/",
      "include_colab_link": true
    },
    "kernelspec": {
      "name": "python3",
      "display_name": "Python 3"
    },
    "language_info": {
      "name": "python"
    }
  },
  "cells": [
    {
      "cell_type": "markdown",
      "metadata": {
        "id": "view-in-github",
        "colab_type": "text"
      },
      "source": [
        "<a href=\"https://colab.research.google.com/github/link0328/Lecture/blob/main/W3/inclass.ipynb\" target=\"_parent\"><img src=\"https://colab.research.google.com/assets/colab-badge.svg\" alt=\"Open In Colab\"/></a>"
      ]
    },
    {
      "cell_type": "code",
      "execution_count": 9,
      "metadata": {
        "colab": {
          "base_uri": "https://localhost:8080/"
        },
        "id": "O6NT4cDJrV6O",
        "outputId": "532ffa75-c280-4486-9e5a-e1125af03116"
      },
      "outputs": [
        {
          "output_type": "stream",
          "name": "stdout",
          "text": [
            "Epoch 1/5\n",
            "30/30 [==============================] - 1s 3ms/step - loss: 0.6127 - accuracy: 0.8511\n",
            "Epoch 2/5\n",
            "30/30 [==============================] - 0s 3ms/step - loss: 0.4313 - accuracy: 0.8511\n",
            "Epoch 3/5\n",
            "30/30 [==============================] - 0s 3ms/step - loss: 0.4292 - accuracy: 0.8511\n",
            "Epoch 4/5\n",
            "30/30 [==============================] - 0s 3ms/step - loss: 0.4297 - accuracy: 0.8511\n",
            "Epoch 5/5\n",
            "30/30 [==============================] - 0s 3ms/step - loss: 0.4258 - accuracy: 0.8511\n"
          ]
        }
      ],
      "source": [
        "#from (라이브러리명) import (함수명)\n",
        "#from (라이브러리명) as (새로운 이름)\n",
        "\n",
        "from tensorflow.keras.models import Sequential\n",
        "from tensorflow.keras.layers import Dense\n",
        "import numpy as np\n",
        "\n",
        "\n",
        "Data_set = np.loadtxt('https://raw.githubusercontent.com/dhshinEddie/DeepKMOU/main/W3/ThoraricSurgery3.csv',delimiter=\",\")\n",
        "\n",
        "#모든행의 1번째 열부터 17번째 열까지\n",
        "X = Data_set[:,0:16]\n",
        "#모든행의 17번째열\n",
        "y = Data_set[:,16]\n",
        "\n",
        "#모델로 선언\n",
        "model = Sequential()\n",
        "\n",
        "#딥러닝의 한층한층을 model.add()라는 함수로 추가\n",
        "model.add(Dense(30,input_dim=16,activation='relu'))\n",
        "\n",
        "#각층의 입력과 출력을 촘촘하게 모두 연결\n",
        "model.add(Dense(1,activation='sigmoid'))\n",
        "\n",
        "#모델실행\n",
        "model.compile(loss= 'binary_crossentropy',optimizer='adam',metrics=['accuracy'])\n",
        "#딥러닝 학습시 layer를 여러번 통과할때 최저의 모델을 찾는 함수\n",
        "history=model.fit(X,y,epochs=5,batch_size=16)\n"
      ]
    }
  ]
}